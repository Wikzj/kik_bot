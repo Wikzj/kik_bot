{
 "cells": [
  {
   "cell_type": "code",
   "execution_count": 1,
   "metadata": {},
   "outputs": [],
   "source": [
    "def GetResponseAttr(attr_name, resp_text, quote = '\"'):\n",
    "    attr_name = attr_name+'='+quote\n",
    "    start = resp_text.find(attr_name)+len(attr_name)\n",
    "    end = resp_text.find(quote, start)\n",
    "    return resp_text[start: end]"
   ]
  },
  {
   "cell_type": "code",
   "execution_count": 2,
   "metadata": {},
   "outputs": [],
   "source": [
    "def GetResponseDict(resp_text):\n",
    "    #возвращает только первый словарь.\n",
    "    #будут проблемы, если будет вложенный словарь\n",
    "    start = resp_text.find('{')\n",
    "    end = resp_text.find('}', start)\n",
    "    return resp_text[start: end+1]"
   ]
  },
  {
   "cell_type": "code",
   "execution_count": 3,
   "metadata": {},
   "outputs": [
    {
     "name": "stderr",
     "output_type": "stream",
     "text": [
      "DEBUG:urllib3.connectionpool:Starting new HTTPS connection (1): captcha.kik.com\n",
      "DEBUG:urllib3.connectionpool:https://captcha.kik.com:443 \"GET /?id=3-CAISeFB-ktoCL82eTHfb1e21_IaYfoSgigifgkPlgml_HsDaWUeprIeOpcT0c1mEY6WJvGRUiZ9ufLsRosdV3L3NNvLPXjx81yknkc43M0MA1LTL4rVLQtUt5cxak2bwqiyjfx774cz3TFNWJx9umPOTeEsQ4i1R6ffEWBoQRnJLIBkuLz4jNRrsmHU53iIfXh2cl7DcCHEUy_Ay4xOXurBcNWMNpO-Pp7SG5zPEryoQq2OV1HzvPduxpEZXP0pYcA HTTP/1.1\" 200 None\n",
      "DEBUG:urllib3.connectionpool:Starting new HTTPS connection (1): funcaptcha.com\n",
      "DEBUG:urllib3.connectionpool:https://funcaptcha.com:443 \"GET /fc/api/?onload=callbackCaptchaReady HTTP/1.1\" 200 None\n",
      "DEBUG:urllib3.connectionpool:Starting new HTTPS connection (1): cdn.funcaptcha.com\n",
      "DEBUG:urllib3.connectionpool:https://cdn.funcaptcha.com:443 \"GET /fc/js/ba1e486f2d32eee8fdf97ee89ec06b14/standard/funcaptcha_api.js HTTP/1.1\" 200 None\n",
      "DEBUG:urllib3.connectionpool:https://funcaptcha.com:443 \"GET /fc/gt2/?callback=fcJSONPCallback&bda=W3sia2V5IjoiYXBpX3R5cGUiLCJ2YWx1ZSI6ImpzIn0seyJrZXkiOiJwIiwidmFsdWUiOjF9LHsia2V5IjoiZiIsInZhbHVlIjoiNzY1MWVkMTE5ZmRmZDhlNWQzMTA0NGYzZjk3N2ZkMDIifSx7ImtleSI6ImNzIiwidmFsdWUiOjF9XQ==&public_key=92A09218-4AD3-CC2B-8145-87CD0B851124&site=https://captcha.kik.com&data[kik_id]=3-CAISeFB-ktoCL82eTHfb1e21_IaYfoSgigifgkPlgml_HsDaWUeprIeOpcT0c1mEY6WJvGRUiZ9ufLsRosdV3L3NNvLPXjx81yknkc43M0MA1LTL4rVLQtUt5cxak2bwqiyjfx774cz3TFNWJx9umPOTeEsQ4i1R6ffEWBoQRnJLIBkuLz4jNRrsmHU53iIfXh2cl7DcCHEUy_Ay4xOXurBcNWMNpO-Pp7SG5zPEryoQq2OV1HzvPduxpEZXP0pYcA HTTP/1.1\" 200 None\n"
     ]
    }
   ],
   "source": [
    "import logging\n",
    "logging.basicConfig(level=logging.DEBUG)\n",
    "import requests\n",
    "captcha_link ='https://captcha.kik.com/?id='\n",
    "captcha_id = '3-CAISeFB-ktoCL82eTHfb1e21_IaYfoSgigifgkPlgml_HsDaWUeprIeOpcT0c1mEY6WJvGRUiZ9ufLsRosdV3L3NNvLPXjx81yknkc43M0MA1LTL4rVLQtUt5cxak2bwqiyjfx774cz3TFNWJx9umPOTeEsQ4i1R6ffEWBoQRnJLIBkuLz4jNRrsmHU53iIfXh2cl7DcCHEUy_Ay4xOXurBcNWMNpO-Pp7SG5zPEryoQq2OV1HzvPduxpEZXP0pYcA'\n",
    "\n",
    "ses = requests.session()\n",
    "res = ses.get(captcha_link+captcha_id)\n",
    "\n",
    "next1 ='https://funcaptcha.com/fc/api/?onload=callbackCaptchaReady'\n",
    "res1 = ses.get(next1)\n",
    "#get next link\n",
    "next2 = GetResponseAttr('t.src',res1.text)\n",
    "res2 = ses.get(next2)\n",
    "#get next link\n",
    "GetCaptchaTokenDict = {'bda':'W3sia2V5IjoiYXBpX3R5cGUiLCJ2YWx1ZSI6ImpzIn0seyJrZXkiOiJwIiwidmFsdWUiOjF9L'\\\n",
    "                       'Hsia2V5IjoiZiIsInZhbHVlIjoiNzY1MWVkMTE5ZmRmZDhlNWQzMTA0NGYzZjk3N2ZkMDIifSx7Im'\\\n",
    "                       'tleSI6ImNzIiwidmFsdWUiOjF9XQ=='\\\n",
    "                       ,'public_key':'92A09218-4AD3-CC2B-8145-87CD0B851124'\\\n",
    "                       ,'site':'https://captcha.kik.com'\\\n",
    "                       ,'data[kik_id]':captcha_id}\n",
    "            \n",
    "next3 =  GetResponseAttr('var S7e', res2.text)\\\n",
    "        +GetResponseAttr('var Z8e', res2.text)\\\n",
    "        +'&'+'&'.join(map(lambda x: '{}={}'.format(x[0],x[1]), GetCaptchaTokenDict.items()))\n",
    "        \n",
    "res3 = ses.get(next3)\n",
    "#токен получен успешно."
   ]
  },
  {
   "cell_type": "code",
   "execution_count": 4,
   "metadata": {},
   "outputs": [
    {
     "name": "stderr",
     "output_type": "stream",
     "text": [
      "DEBUG:urllib3.connectionpool:https://funcaptcha.com:443 \"GET /fc/gc/?token=8135a33e202af59b2.88290908&r=eu-west-1&metabgclr=transparent&metatimeclr=%237a7d8e&meta=6&guitextcolor=%2326beff&metaiconclr=transparent&pk=92A09218-4AD3-CC2B-8145-87CD0B851124&injs=https://cdn.funcaptcha.com/fc/assets/graphics/kik/scripts/kik_help_8.js&at=40&ps=id&ht=1&cdn_url=https://cdn.funcaptcha.com/fc&surl=https://funcaptcha.com&ps=3-CAISeFB-ktoCL82eTHfb1e21_IaYfoSgigifgkPlgml_HsDaWUeprIeOpcT0c1mEY6WJvGRUiZ9ufLsRosdV3L3NNvLPXjx81yknkc43M0MA1LTL4rVLQtUt5cxak2bwqiyjfx774cz3TFNWJx9umPOTeEsQ4i1R6ffEWBoQRnJLIBkuLz4jNRrsmHU53iIfXh2cl7DcCHEUy_Ay4xOXurBcNWMNpO-Pp7SG5zPEryoQq2OV1HzvPduxpEZXP0pYcA HTTP/1.1\" 200 None\n",
      "DEBUG:urllib3.connectionpool:https://funcaptcha.com:443 \"GET /fc/apps/canvas/001/ HTTP/1.1\" 200 None\n",
      "DEBUG:urllib3.connectionpool:https://funcaptcha.com:443 \"GET /fc/a/ HTTP/1.1\" 200 None\n"
     ]
    },
    {
     "name": "stdout",
     "output_type": "stream",
     "text": [
      "{\"logged\":false}\n"
     ]
    }
   ],
   "source": [
    "next4 = 'https://funcaptcha.com/fc/gc/'+'?token='\\\n",
    "        +eval(GetResponseDict(res3.text)).get('token').replace('\\\\/','/').replace('|','&')\\\n",
    "        +'&ps='+captcha_id\n",
    "\n",
    "res4 = ses.get(next4)\n",
    "\n",
    "next5 = 'https://funcaptcha.com/fc/apps/canvas/001/'\n",
    "res5 = ses.get(next5, headers={'referer': next4})\n",
    "\n",
    "next6 = 'https://funcaptcha.com/fc/a/'\n",
    "res6 = ses.get(next6, headers={'referer': next4})\n",
    "print(res6.text)"
   ]
  },
  {
   "cell_type": "code",
   "execution_count": 5,
   "metadata": {},
   "outputs": [
    {
     "name": "stderr",
     "output_type": "stream",
     "text": [
      "DEBUG:urllib3.connectionpool:https://funcaptcha.com:443 \"POST /fc/ekey/ HTTP/1.1\" 200 None\n"
     ]
    },
    {
     "name": "stdout",
     "output_type": "stream",
     "text": [
      "{\"error\":\"DENIED ACCESS\"}\n"
     ]
    }
   ],
   "source": [
    "next7 = 'https://funcaptcha.com/fc/ekey/'\n",
    "res7 = ses.post(next7, headers={'referer': next4})\n",
    "print(res7.text)"
   ]
  }
 ],
 "metadata": {
  "kernelspec": {
   "display_name": "Python 3",
   "language": "python",
   "name": "python3"
  },
  "language_info": {
   "codemirror_mode": {
    "name": "ipython",
    "version": 3
   },
   "file_extension": ".py",
   "mimetype": "text/x-python",
   "name": "python",
   "nbconvert_exporter": "python",
   "pygments_lexer": "ipython3",
   "version": "3.6.3"
  }
 },
 "nbformat": 4,
 "nbformat_minor": 2
}
